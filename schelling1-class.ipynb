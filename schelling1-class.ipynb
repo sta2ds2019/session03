{
 "cells": [
  {
   "cell_type": "code",
   "execution_count": 4,
   "metadata": {},
   "outputs": [],
   "source": [
    "class Schelling:\n",
    "    \"\"\"Schelling's segregation model\"\"\"\n",
    "    version = 0.1  # class attribute\n",
    "    \n",
    "    def __init__(self, empty_ratio = 0.25):\n",
    "        \"\"\"constructor\"\"\"\n",
    "        self.empty_ratio = empty_ratio  # class instance attribute\n",
    "        print(\"Created a class instance with empty ratio\", empty_ratio)\n",
    "        \n",
    "    def populate(self):\n",
    "        \"\"\"The populate method is used at the beginning of the simulation. This method randomly distributes people in the grid.\"\"\"\n",
    "        self.all_houses = ['a1', 'b1', 'a2', 'b2']\n",
    "        \n",
    "        self.n_empty = int(self.empty_ratio * len(self.all_houses))\n",
    "        self.empty_houses = self.all_houses[:self.n_empty]\n",
    "        \n",
    "        self.remaining_houses = self.all_houses[self.n_empty:]\n",
    "        \n",
    "        houses_by_color = []\n",
    "        for house in self.remaining_houses:\n",
    "            houses_by_color.append((house, 'blue'))\n",
    "        \n",
    "        self.agents = dict(houses_by_color)"
   ]
  },
  {
   "cell_type": "code",
   "execution_count": 5,
   "metadata": {},
   "outputs": [
    {
     "name": "stdout",
     "output_type": "stream",
     "text": [
      "Created a class instance with empty ratio 0.25\n",
      "{'b1': 'blue', 'a2': 'blue', 'b2': 'blue'}\n"
     ]
    }
   ],
   "source": [
    "schelling_1 = Schelling()\n",
    "schelling_1.populate()\n",
    "print(schelling_1.agents)"
   ]
  },
  {
   "cell_type": "code",
   "execution_count": 6,
   "metadata": {},
   "outputs": [
    {
     "name": "stdout",
     "output_type": "stream",
     "text": [
      "Created a class instance with empty ratio 0.5\n",
      "{'a2': 'blue', 'b2': 'blue'}\n"
     ]
    }
   ],
   "source": [
    "schelling_2 = Schelling(0.5)\n",
    "schelling_2.populate()\n",
    "print(schelling_2.agents)"
   ]
  },
  {
   "cell_type": "code",
   "execution_count": 7,
   "metadata": {},
   "outputs": [
    {
     "name": "stdout",
     "output_type": "stream",
     "text": [
      "Created a class instance with empty ratio 0.75\n",
      "{'b2': 'blue'}\n"
     ]
    }
   ],
   "source": [
    "schelling_3 = Schelling(0.75)\n",
    "schelling_3.populate()\n",
    "print(schelling_3.agents)"
   ]
  },
  {
   "cell_type": "code",
   "execution_count": 8,
   "metadata": {},
   "outputs": [
    {
     "name": "stdout",
     "output_type": "stream",
     "text": [
      "Created a class instance with empty ratio 0\n",
      "Created a class instance with empty ratio 0.25\n",
      "Created a class instance with empty ratio 0.5\n",
      "Created a class instance with empty ratio 0.75\n"
     ]
    }
   ],
   "source": [
    "models = []\n",
    "for er in [0, 0.25, 0.5, 0.75]:\n",
    "    schelling = Schelling(er)\n",
    "    models.append(schelling)"
   ]
  },
  {
   "cell_type": "code",
   "execution_count": 9,
   "metadata": {},
   "outputs": [
    {
     "name": "stdout",
     "output_type": "stream",
     "text": [
      "{'a1': 'blue', 'b1': 'blue', 'a2': 'blue', 'b2': 'blue'}\n",
      "{'b1': 'blue', 'a2': 'blue', 'b2': 'blue'}\n",
      "{'a2': 'blue', 'b2': 'blue'}\n",
      "{'b2': 'blue'}\n"
     ]
    }
   ],
   "source": [
    "for model in models:\n",
    "    model.populate()\n",
    "    print(model.agents)"
   ]
  },
  {
   "cell_type": "code",
   "execution_count": null,
   "metadata": {},
   "outputs": [],
   "source": []
  }
 ],
 "metadata": {
  "kernelspec": {
   "display_name": "Python 3",
   "language": "python",
   "name": "python3"
  },
  "language_info": {
   "codemirror_mode": {
    "name": "ipython",
    "version": 3
   },
   "file_extension": ".py",
   "mimetype": "text/x-python",
   "name": "python",
   "nbconvert_exporter": "python",
   "pygments_lexer": "ipython3",
   "version": "3.6.8"
  }
 },
 "nbformat": 4,
 "nbformat_minor": 2
}
